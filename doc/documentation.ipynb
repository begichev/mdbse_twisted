{
 "cells": [
  {
   "cell_type": "markdown",
   "metadata": {},
   "source": [
    "# Documentation"
   ]
  },
  {
   "cell_type": "markdown",
   "metadata": {},
   "source": [
    "Dirac:\n",
    "$$\n",
    "H_D = \\hbar v \\left( k_x\\sigma_x + k_y\\sigma_y\\right) + \\frac{\\Delta}{2}\\hat\\sigma_z\n",
    "$$\n",
    "Introduce dimensionless units:\n",
    "$$\n",
    "\\Delta, \n",
    "$$\n",
    "for energy, and\n",
    "$$\n",
    "\\frac{\\hbar v}{\\Delta}\n",
    "$$\n",
    "for length."
   ]
  },
  {
   "cell_type": "markdown",
   "metadata": {},
   "source": [
    "Then,\n",
    "$$\n",
    "\\boxed{\n",
    "H_D = k_x\\sigma_x + k_y\\sigma_y + \\frac12\\hat\\sigma_z\n",
    "}\n",
    "$$"
   ]
  },
  {
   "cell_type": "markdown",
   "metadata": {},
   "source": [
    "$$\n",
    "S=\\frac{1}{\\sqrt{E_k (1+2E_k)}}\n",
    "\\begin{pmatrix}\n",
    "\\frac12 + E_k & k_x-k_y \\\\\n",
    "k_x+k_y & -\\frac12-E_k\n",
    "\\end{pmatrix}\n",
    "$$"
   ]
  },
  {
   "cell_type": "markdown",
   "metadata": {},
   "source": [
    "which correspond to eigenvalues $\\pm E_k$, with\n",
    "$$\n",
    "E_k \\equiv \\sqrt{\\frac{1}{4}+k^2}\n",
    "$$"
   ]
  },
  {
   "cell_type": "markdown",
   "metadata": {},
   "source": [
    "The RK interaction potential is (in units Hartree\\*Bohr^2):\n",
    "$$\n",
    "W_\\textrm{RK}(q)=\\frac{2\\pi}{\\epsilon q (1+r_0 q)}\n",
    "$$"
   ]
  },
  {
   "cell_type": "markdown",
   "metadata": {},
   "source": [
    "In dimensionless units:\n",
    "$$\n",
    "\\tilde{W}_\\textrm{RK}(\\tilde{q})=\\frac{1}{L^2 \\Delta }W_\\textrm{RK}\\left(\\tilde{q}/L\\right)\n",
    "=\\frac{2\\pi}{ \\epsilon_\\textrm{eff}\\,\\tilde{q} (1+\\tilde{r}_0 \\tilde{q})}, \n",
    "$$\n",
    "where\n",
    "$$\n",
    "\\epsilon_\\textrm{eff}=\\left(\\frac{\\Delta}{\\textrm{Ha}}\\right)\n",
    "\\left(\\frac{L}{\\textrm{Bohr}}\\right)\\epsilon\n",
    "$$"
   ]
  },
  {
   "cell_type": "markdown",
   "metadata": {},
   "source": [
    "The RK interaction potential real space (in units Hartree):\n",
    "$$\n",
    "W(r) = \\frac{\\pi}{2 \\epsilon r_0}\\left[H_0\\left(\\frac{r}{r_0}\\right)-Y_0\\left(\\frac{r}{r_0}\\right) \\right]\n",
    "$$"
   ]
  },
  {
   "cell_type": "markdown",
   "metadata": {},
   "source": [
    "$$\n",
    "\\tilde{W}(\\tilde{r}) = \\frac{W(\\tilde{r}L)}{\\Delta} = \\frac{\\pi}{2 \\epsilon_\\textrm{eff} \\tilde{r}_0}\\left[H_0\\left(\\frac{\\tilde{r}}{\\tilde{r}_0}\\right)-Y_0\\left(\\frac{\\tilde{r}}{\\tilde{r}_0}\\right) \\right]\n",
    "$$"
   ]
  },
  {
   "cell_type": "markdown",
   "metadata": {},
   "source": [
    "$$\n",
    "\\tilde{W}_\\textrm{RK}(\\tilde{q}) = \\int \\tilde{W}(\\tilde{r}) e^{-i\\mathbf{\\tilde{q}}\\mathbf{\\tilde{r}}}\\; d^2\\tilde{\\mathbf{r}} \n",
    "$$"
   ]
  },
  {
   "cell_type": "markdown",
   "metadata": {},
   "source": [
    "$$\n",
    "\\tilde{W}_\\textrm{RK}(\\tilde{q}) = \\textrm{PythonFFT} [\\tilde{W}(\\tilde{r})]\\,\\delta^2\\mathbf{\\tilde{r}}\n",
    "$$"
   ]
  },
  {
   "cell_type": "markdown",
   "metadata": {},
   "source": [
    "From Ref. Ion Garate and M. Franz, PRB 84, 045403 (2011):\n",
    "$$H_{kk'}=(2 E_k + \\delta \\Sigma_k)\\delta_{kk'} - \\frac{\\delta^2 \\mathbf{k}}{(2\\pi)^2}W(k-k') \\langle c,k | c,k'\\rangle \\langle v,k' | v,k \\rangle$$\n",
    "where $\\delta^2 \\mathbf{k}^2$ is the integration element area."
   ]
  },
  {
   "cell_type": "markdown",
   "metadata": {},
   "source": [
    "$$\\tilde{H}_{kk'}=(2 \\tilde{E}_k + \\delta \\tilde{\\Sigma}_k)\\delta_{kk'} - \\frac{\\delta^2 \\tilde{\\mathbf{k}}}{(2\\pi)^2} \\tilde{W}(k-k') \\langle c,k | c,k'\\rangle \\langle v,k' | v,k \\rangle$$"
   ]
  },
  {
   "cell_type": "markdown",
   "metadata": {},
   "source": [
    "## Absorption\n",
    "$$\n",
    "\\mathbf{v}=\\frac{\\partial H_D}{\\hbar  \\partial \\mathbf{k}}\n",
    "$$\n",
    "In normalized units:\n",
    "$$\n",
    "v_x=\\hat\\sigma_x, v_y=\\hat\\sigma_y\n",
    "$$\n"
   ]
  },
  {
   "cell_type": "markdown",
   "metadata": {},
   "source": [
    "Dipole transition matrix element:\n",
    "$$\n",
    "|d|^2 = \\left|\\frac{\\langle X | v_i | 0 \\rangle}{\\omega-E_X}\\right|^2\n",
    "$$\n",
    "where\n",
    "$$\n",
    "\\langle X | v_i | 0 \\rangle = \\sum_k X_k \\langle c \\mathbf{k} | v_i | v \\mathbf{k} \\rangle,\n",
    "$$"
   ]
  },
  {
   "cell_type": "markdown",
   "metadata": {},
   "source": [
    "Optical susceptibility:\n",
    "$$\n",
    "\\frac{\\chi_0(\\omega)}{q^2} = \\int \\frac{d^2k}{(2\\pi)^2} |r_{cv}|^2\n",
    "\\left( \\frac{1}{\\omega-\\omega_{cv}+i\\epsilon}-\\frac{1}{\\omega+\\omega_{cv}+i\\epsilon} \\right)\n",
    "$$"
   ]
  }
 ],
 "metadata": {
  "kernelspec": {
   "display_name": "Python 3 (ipykernel)",
   "language": "python",
   "name": "python3"
  },
  "language_info": {
   "codemirror_mode": {
    "name": "ipython",
    "version": 3
   },
   "file_extension": ".py",
   "mimetype": "text/x-python",
   "name": "python",
   "nbconvert_exporter": "python",
   "pygments_lexer": "ipython3",
   "version": "3.9.5"
  }
 },
 "nbformat": 4,
 "nbformat_minor": 4
}
